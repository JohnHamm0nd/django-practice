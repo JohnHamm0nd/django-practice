{
 "cells": [
  {
   "cell_type": "code",
   "execution_count": 1,
   "metadata": {},
   "outputs": [],
   "source": [
    "from selenium import webdriver\n",
    "import pyautogui\n",
    "import time\n",
    "import random\n",
    "import re\n",
    "import os\n",
    "import pickle"
   ]
  },
  {
   "cell_type": "code",
   "execution_count": null,
   "metadata": {},
   "outputs": [],
   "source": []
  },
  {
   "cell_type": "code",
   "execution_count": 2,
   "metadata": {},
   "outputs": [],
   "source": [
    "# 나라이름으로 된 폴더가 있는지 확인하고 없으면 만든다.\n",
    "def make_directory(directory_name):\n",
    "    try:\n",
    "        if not(os.path.isdir(directory_name)):\n",
    "            os.makedirs(os.path.join(directory_name))\n",
    "    except OSError as e:\n",
    "        if e.errno != errno.EEXIST:\n",
    "            print(directory_name, \"폴더가 있음.\")\n",
    "            raise"
   ]
  },
  {
   "cell_type": "code",
   "execution_count": 3,
   "metadata": {},
   "outputs": [],
   "source": [
    "# 입력 받은 크롤링 개수보다 파일이 많으면 동작하지 않음, 파일이 적을 경우 적은 만큼만 동작하여 이미지 파일의 총 개수가 \n",
    "# 입력 받은 크롤링 개수가 되게 함.\n",
    "def check_image_count(directory_name, total_count):\n",
    "    image_list = next(os.walk('./{}/'.format(directory_name)))[2]\n",
    "    image_count = len(image_list)\n",
    "    \n",
    "    if total_count <= image_count:\n",
    "        print('입력받은 개수보다 많은 파일을 가지고 있음.')\n",
    "        return False\n",
    "    else:\n",
    "        total_crawling_count = total_count - image_count\n",
    "        max_num = 0\n",
    "        max_num_index = 0\n",
    "        for i in range(image_count):\n",
    "            if max_num < int(re.findall('\\d+', image_list[i])[0]):\n",
    "                max_num = int(re.findall('\\d+', image_list[i])[0])\n",
    "                max_num_index = i\n",
    "        # print(max_num_index, max_num)\n",
    "        return total_crawling_count, max_num"
   ]
  },
  {
   "cell_type": "code",
   "execution_count": 4,
   "metadata": {},
   "outputs": [],
   "source": [
    "# urls 파일 열기, shuffle\n",
    "def load_urls(country_name):\n",
    "    urls = []\n",
    "    with open('{}_urls.txt'.format(country_name, 'r')) as file:\n",
    "        for s in file:\n",
    "            urls.append(s.split(' ')[0])\n",
    "    random.shuffle(urls)\n",
    "    return urls"
   ]
  },
  {
   "cell_type": "code",
   "execution_count": 5,
   "metadata": {},
   "outputs": [],
   "source": [
    "# 각 url 마다 크롤링할 개수, 반올림하여 구함\n",
    "# 데이터 전처리에서 버리는 데이터가 생기므로 더 많은 데이터 크롤링\n",
    "def each_count(urls, total_crawling_count):\n",
    "    each_crawling_count = total_crawling_count / len(urls)\n",
    "    return round(each_crawling_count) + 2"
   ]
  },
  {
   "cell_type": "code",
   "execution_count": null,
   "metadata": {},
   "outputs": [],
   "source": []
  },
  {
   "cell_type": "code",
   "execution_count": 6,
   "metadata": {},
   "outputs": [],
   "source": [
    "# 데이터 중복 방지\n",
    "# url 에서 방향을 전환시켜 나가는 방향을 바꿔준다\n",
    "def edit_direction(url):\n",
    "    p = re.compile('\\d*\\.?\\d+h')\n",
    "    m = p.search(url)\n",
    "    direction = m.group()\n",
    "    new_direction = direction.rstrip('h')\n",
    "    new_direction = float(new_direction)\n",
    "    new_direction += random.choice([0, 90, 180, 270])\n",
    "    if new_direction >= 360:\n",
    "        new_direction -= 360\n",
    "    new_direction = str(new_direction) + 'h'\n",
    "    url = url.replace(direction, new_direction)\n",
    "    return url"
   ]
  },
  {
   "cell_type": "code",
   "execution_count": 7,
   "metadata": {},
   "outputs": [],
   "source": [
    "# 각도가 80보다 낮거나 110보다 높으면 80에서 110 사이의 각도와 얼마나 차이가 나는지 리턴\n",
    "# 각도가 낮으면 양수, 높으면 음수가 나온다.\n",
    "# 양수가 나왔으면 밑으로 드래그, 음수가 나왔으면 위로 드래그\n",
    "def edit_angle():\n",
    "    url = driver.current_url\n",
    "    p = re.compile('\\d*\\.?\\d+t')\n",
    "    m = p.search(url)\n",
    "    check = m.group().rstrip('t')\n",
    "    check = round(float(check))\n",
    "    move = random.randrange(85, 111) - check\n",
    "    return move    "
   ]
  },
  {
   "cell_type": "code",
   "execution_count": 8,
   "metadata": {},
   "outputs": [],
   "source": [
    "# 위젯 제거.\n",
    "def remove_widgets():\n",
    "    remove_list = []\n",
    "    remove_list.append(driver.find_element_by_class_name('widget-titlecard'))\n",
    "    remove_list.append(driver.find_element_by_class_name('widget-minimap'))\n",
    "    remove_list.append(driver.find_element_by_class_name('widget-compass'))\n",
    "    #remove_list.append(driver.find_element_by_class_name('app-vertical-item'))\n",
    "    remove_list.append(driver.find_element_by_class_name('app-horizontal-widget-holder'))\n",
    "    remove_list.append(driver.find_element_by_class_name('scene-footer-container'))\n",
    "    remove_list.append(driver.find_element_by_class_name('widget-watermark'))\n",
    "    remove_list.append(driver.find_element_by_class_name('widget-image-header-close'))\n",
    "    remove_list.append(driver.find_element_by_class_name('widget-zoom'))\n",
    "    for r in remove_list:\n",
    "        driver.execute_script('arguments[0].style.display=\"none\"; return arguments[0];', r)"
   ]
  },
  {
   "cell_type": "code",
   "execution_count": 30,
   "metadata": {},
   "outputs": [],
   "source": [
    "# 사진 저장\n",
    "def save_screenshot(country_name, count, i):\n",
    "    pyautogui.moveTo(50, 520)\n",
    "    pyautogui.dragTo(1870, None, duration=1, button='left')\n",
    "    for s in range(3):\n",
    "        pyautogui.moveTo(x=None, y=50, duration=0.3)\n",
    "        street_view = driver.find_element_by_class_name('widget-scene-canvas')\n",
    "        street_view.screenshot('./{}/{}_{}.png'.format(country_name, country_name, count))\n",
    "        count += 1\n",
    "        i += 1\n",
    "        if s == 2:\n",
    "            pyautogui.moveTo(50, 520)\n",
    "            pyautogui.dragTo(1870, None, duration=1, button='left')\n",
    "        else:\n",
    "            pyautogui.moveTo(1870, 520)\n",
    "            pyautogui.dragTo(50, None, duration=1, button='left')\n",
    "    return count, i"
   ]
  },
  {
   "cell_type": "code",
   "execution_count": 10,
   "metadata": {},
   "outputs": [],
   "source": [
    "# 크롤러 동작"
   ]
  },
  {
   "cell_type": "code",
   "execution_count": 11,
   "metadata": {},
   "outputs": [],
   "source": [
    "country_name = 'France'\n",
    "make_directory(country_name)\n",
    "total_crawling_count, max_num = check_image_count(country_name, 1500)\n",
    "urls = load_urls(country_name)\n",
    "each_crawling_count = each_count(urls, total_crawling_count)"
   ]
  },
  {
   "cell_type": "code",
   "execution_count": 12,
   "metadata": {
    "scrolled": true
   },
   "outputs": [
    {
     "name": "stdout",
     "output_type": "stream",
     "text": [
      "country_name:  France\n",
      "total_crawling_count:  145\n",
      "max_num:  1681\n",
      "each_crawling_count:  18\n",
      "urls:  ['https://www.google.com/maps/@48.8547629,2.2953509,3a,75y,307.57h,92.59t/data=!3m6!1e1!3m4!1s8RhjwS0wWnPMRHaT2Z6-Hg!2e0!7i16384!8i8192', 'https://www.google.com/maps/@48.858831,2.303515,3a,75y,240.6h,94.66t/data=!3m6!1e1!3m4!1sElb4uhUjcaT2vuovHBRYTg!2e0!7i16384!8i8192', 'https://www.google.com/maps/@48.8566074,2.3567923,3a,75y,31.27h,94.57t/data=!3m6!1e1!3m4!1sIH7WwGTUGnyMSVFQMbcdiw!2e0!7i16384!8i8192', 'https://www.google.com/maps/@48.8571097,2.3042625,3a,75y,74.93h,98.45t/data=!3m6!1e1!3m4!1so54b4Ju-Lc3ZU6vO0CRMlg!2e0!7i16384!8i8192', 'https://www.google.com/maps/@48.8606119,2.2908257,3a,75y,134.84h,100.59t/data=!3m6!1e1!3m4!1sw3cEwavyJNPqx_FhTlbn0A!2e0!7i16384!8i8192', 'https://www.google.com/maps/@48.8728291,2.3106845,3a,75y,116.44h,93.09t/data=!3m6!1e1!3m4!1s7569WmT40uOsHQFeJ2EHhQ!2e0!7i16384!8i8192', 'https://www.google.com/maps/@48.8576739,2.3804908,3a,75y,139.72h,93.48t/data=!3m6!1e1!3m4!1sv3HXpBGVnLXbACWpsHv_sQ!2e0!7i16384!8i8192', 'https://www.google.com/maps/@48.8564658,2.3735128,3a,75y,236.07h,94.52t/data=!3m6!1e1!3m4!1sA3CampN-mm0OU1N8VunV3Q!2e0!7i16384!8i8192', 'https://www.google.com/maps/@48.8533284,2.3685911,3a,75y,19.59h,93.43t/data=!3m6!1e1!3m4!1s4upNelK6ueQBpUSauQmElw!2e0!7i16384!8i8192']\n"
     ]
    }
   ],
   "source": [
    "print('country_name: ', country_name)\n",
    "print('total_crawling_count: ', total_crawling_count)\n",
    "print('max_num: ', max_num)\n",
    "print('each_crawling_count: ', each_crawling_count)\n",
    "print('urls: ', urls)"
   ]
  },
  {
   "cell_type": "code",
   "execution_count": 13,
   "metadata": {
    "scrolled": true
   },
   "outputs": [
    {
     "data": {
      "text/plain": [
       "['https://www.google.com/maps/@48.8547629,2.2953509,3a,75y,307.57h,92.59t/data=!3m6!1e1!3m4!1s8RhjwS0wWnPMRHaT2Z6-Hg!2e0!7i16384!8i8192',\n",
       " 'https://www.google.com/maps/@48.858831,2.303515,3a,75y,240.6h,94.66t/data=!3m6!1e1!3m4!1sElb4uhUjcaT2vuovHBRYTg!2e0!7i16384!8i8192',\n",
       " 'https://www.google.com/maps/@48.8566074,2.3567923,3a,75y,31.27h,94.57t/data=!3m6!1e1!3m4!1sIH7WwGTUGnyMSVFQMbcdiw!2e0!7i16384!8i8192',\n",
       " 'https://www.google.com/maps/@48.8571097,2.3042625,3a,75y,74.93h,98.45t/data=!3m6!1e1!3m4!1so54b4Ju-Lc3ZU6vO0CRMlg!2e0!7i16384!8i8192',\n",
       " 'https://www.google.com/maps/@48.8606119,2.2908257,3a,75y,134.84h,100.59t/data=!3m6!1e1!3m4!1sw3cEwavyJNPqx_FhTlbn0A!2e0!7i16384!8i8192',\n",
       " 'https://www.google.com/maps/@48.8728291,2.3106845,3a,75y,116.44h,93.09t/data=!3m6!1e1!3m4!1s7569WmT40uOsHQFeJ2EHhQ!2e0!7i16384!8i8192',\n",
       " 'https://www.google.com/maps/@48.8576739,2.3804908,3a,75y,139.72h,93.48t/data=!3m6!1e1!3m4!1sv3HXpBGVnLXbACWpsHv_sQ!2e0!7i16384!8i8192',\n",
       " 'https://www.google.com/maps/@48.8564658,2.3735128,3a,75y,236.07h,94.52t/data=!3m6!1e1!3m4!1sA3CampN-mm0OU1N8VunV3Q!2e0!7i16384!8i8192',\n",
       " 'https://www.google.com/maps/@48.8533284,2.3685911,3a,75y,19.59h,93.43t/data=!3m6!1e1!3m4!1s4upNelK6ueQBpUSauQmElw!2e0!7i16384!8i8192']"
      ]
     },
     "execution_count": 13,
     "metadata": {},
     "output_type": "execute_result"
    }
   ],
   "source": [
    "urls"
   ]
  },
  {
   "cell_type": "code",
   "execution_count": 14,
   "metadata": {},
   "outputs": [],
   "source": [
    "random_list = [1, 1, 1, 2, 2, 3]\n",
    "random_direction = ['right', 'right', 'right', 'right', 'left', 'left', 'up', 'up', 'None', 'None']"
   ]
  },
  {
   "cell_type": "code",
   "execution_count": 15,
   "metadata": {},
   "outputs": [],
   "source": [
    "driver = webdriver.Chrome('/usr/lib/chromium-browser/chromedriver')"
   ]
  },
  {
   "cell_type": "code",
   "execution_count": 16,
   "metadata": {},
   "outputs": [
    {
     "name": "stdout",
     "output_type": "stream",
     "text": [
      "time : 2365.542107105255\n"
     ]
    }
   ],
   "source": [
    "start = time.time()  # 시작 시간 저장\n",
    "count = max_num + 1\n",
    "# map_data 파일이 없으면 만듦\n",
    "if '{}_map_data.pickle'.format(country_name) not in os.listdir('./'):\n",
    "    with open('{}_map_data.pickle'.format(country_name), 'wb') as file:\n",
    "        pickle.dump({}, file, pickle.HIGHEST_PROTOCOL)\n",
    "    # map_data 파일이 있으면 load\n",
    "with open('{}_map_data.pickle'.format(country_name), 'rb') as file:\n",
    "    map_data = pickle.load(file)\n",
    "    \n",
    "for url in urls:\n",
    "    driver.get(edit_direction(url))\n",
    "    time.sleep(10)\n",
    "    i = 0\n",
    "    while i <= each_crawling_count:\n",
    "        # 중복 체크\n",
    "        data = driver.current_url.split('!')[4]\n",
    "        if data in map_data:\n",
    "            map_data[data] += 1\n",
    "        else:\n",
    "            map_data[data] = 1\n",
    "        if max(map_data.values()) >= 3:\n",
    "            map_data[data] -= 2\n",
    "            url = random.choice(urls)\n",
    "            driver.get(edit_direction(url))\n",
    "            time.sleep(7)\n",
    "        \n",
    "        random_click = random.choice(random_list)\n",
    "        if random_click == 1:\n",
    "            for j in range(random.randint(4, 8)):\n",
    "                pyautogui.click(x=random.randint(800, 1200), y=random.randint(700, 800))\n",
    "                time.sleep(1.5)\n",
    "        elif random_click == 2:\n",
    "            for q in range(random.randint(3, 7)):\n",
    "                pyautogui.doubleClick(x=random.randint(600, 1400), y=random.randint(600, 900))\n",
    "                time.sleep(1.5)\n",
    "        else:\n",
    "            for k in range(2, 10):\n",
    "                pyautogui.click(x=random.randint(200, 1800), y=random.randint(400, 1000))\n",
    "                time.sleep(1.5)\n",
    "        time.sleep(2)\n",
    "        random_key = random.choice(random_direction)\n",
    "        if random_key == 'up':\n",
    "            pyautogui.keyDown(random_key)\n",
    "            time.sleep(random.randint(6, 9))\n",
    "            pyautogui.keyUp(random_key)\n",
    "            time.sleep(2)\n",
    "        elif random_key == 'left' or random_key == 'right':\n",
    "            pyautogui.keyDown(random_key)\n",
    "            time.sleep(round(random.uniform(0.7, 1.1), 1))\n",
    "            pyautogui.keyUp(random_key)\n",
    "        time.sleep(2)\n",
    "        move = edit_angle()\n",
    "        pyautogui.moveTo(960, 520)\n",
    "        pyautogui.drag(None, move * 6 + 50, duration=0.3, button='left')\n",
    "        remove_widgets()\n",
    "        time.sleep(0.2)\n",
    "        \n",
    "        count, i = save_screenshot(country_name, count, i)       \n",
    "\n",
    "# map_data save\n",
    "with open('{}_map_data.pickle'.format(country_name), 'wb') as file:\n",
    "    pickle.dump(map_data, file, pickle.HIGHEST_PROTOCOL)\n",
    "print(\"time :\", time.time() - start)  # 현재시각 - 시작시간 = 실행 시간"
   ]
  },
  {
   "cell_type": "code",
   "execution_count": null,
   "metadata": {},
   "outputs": [],
   "source": []
  },
  {
   "cell_type": "code",
   "execution_count": 16,
   "metadata": {},
   "outputs": [
    {
     "data": {
      "text/plain": [
       "'\\n'"
      ]
     },
     "execution_count": 16,
     "metadata": {},
     "output_type": "execute_result"
    }
   ],
   "source": [
    "url"
   ]
  },
  {
   "cell_type": "code",
   "execution_count": null,
   "metadata": {},
   "outputs": [],
   "source": []
  },
  {
   "cell_type": "code",
   "execution_count": 35,
   "metadata": {},
   "outputs": [
    {
     "data": {
      "text/plain": [
       "'1ssaKXEOROH81hE9FBXWl3sw'"
      ]
     },
     "execution_count": 35,
     "metadata": {},
     "output_type": "execute_result"
    }
   ],
   "source": [
    "url.split('!')[4]"
   ]
  },
  {
   "cell_type": "code",
   "execution_count": 18,
   "metadata": {},
   "outputs": [],
   "source": [
    "with open('{}_map_data.pickle'.format(country_name), 'wb') as file:\n",
    "    pickle.dump(map_data, file, pickle.HIGHEST_PROTOCOL)"
   ]
  },
  {
   "cell_type": "code",
   "execution_count": 52,
   "metadata": {},
   "outputs": [],
   "source": [
    "pyautogui.moveTo(550, 520)\n",
    "pyautogui.drag(None, 50, duration=0.3, button='left')\n",
    "pyautogui.drag(None, 50, duration=0.2, button='left')"
   ]
  },
  {
   "cell_type": "code",
   "execution_count": null,
   "metadata": {},
   "outputs": [],
   "source": []
  },
  {
   "cell_type": "code",
   "execution_count": 15,
   "metadata": {},
   "outputs": [],
   "source": [
    "image_list = next(os.walk('./Australia/'))[2]"
   ]
  },
  {
   "cell_type": "code",
   "execution_count": 17,
   "metadata": {},
   "outputs": [],
   "source": [
    "image_list.sort()"
   ]
  },
  {
   "cell_type": "code",
   "execution_count": 18,
   "metadata": {},
   "outputs": [
    {
     "data": {
      "text/plain": [
       "['Australia_1.png',\n",
       " 'Australia_10.png',\n",
       " 'Australia_100.png',\n",
       " 'Australia_101.png',\n",
       " 'Australia_102.png',\n",
       " 'Australia_103.png',\n",
       " 'Australia_104.png',\n",
       " 'Australia_105.png',\n",
       " 'Australia_106.png',\n",
       " 'Australia_107.png',\n",
       " 'Australia_108.png',\n",
       " 'Australia_109.png',\n",
       " 'Australia_11.png',\n",
       " 'Australia_110.png',\n",
       " 'Australia_111.png',\n",
       " 'Australia_112.png',\n",
       " 'Australia_113.png',\n",
       " 'Australia_114.png',\n",
       " 'Australia_115.png',\n",
       " 'Australia_116.png',\n",
       " 'Australia_117.png',\n",
       " 'Australia_118.png',\n",
       " 'Australia_119.png',\n",
       " 'Australia_12.png',\n",
       " 'Australia_120.png',\n",
       " 'Australia_121.png',\n",
       " 'Australia_122.png',\n",
       " 'Australia_123.png',\n",
       " 'Australia_124.png',\n",
       " 'Australia_125.png',\n",
       " 'Australia_126.png',\n",
       " 'Australia_127.png',\n",
       " 'Australia_128.png',\n",
       " 'Australia_129.png',\n",
       " 'Australia_13.png',\n",
       " 'Australia_130.png',\n",
       " 'Australia_131.png',\n",
       " 'Australia_132.png',\n",
       " 'Australia_133.png',\n",
       " 'Australia_134.png',\n",
       " 'Australia_135.png',\n",
       " 'Australia_136.png',\n",
       " 'Australia_137.png',\n",
       " 'Australia_138.png',\n",
       " 'Australia_139.png',\n",
       " 'Australia_14.png',\n",
       " 'Australia_140.png',\n",
       " 'Australia_141.png',\n",
       " 'Australia_142.png',\n",
       " 'Australia_143.png',\n",
       " 'Australia_144.png',\n",
       " 'Australia_145.png',\n",
       " 'Australia_146.png',\n",
       " 'Australia_147.png',\n",
       " 'Australia_148.png',\n",
       " 'Australia_149.png',\n",
       " 'Australia_15.png',\n",
       " 'Australia_150.png',\n",
       " 'Australia_151.png',\n",
       " 'Australia_152.png',\n",
       " 'Australia_153.png',\n",
       " 'Australia_154.png',\n",
       " 'Australia_155.png',\n",
       " 'Australia_156.png',\n",
       " 'Australia_157.png',\n",
       " 'Australia_158.png',\n",
       " 'Australia_159.png',\n",
       " 'Australia_16.png',\n",
       " 'Australia_160.png',\n",
       " 'Australia_161.png',\n",
       " 'Australia_162.png',\n",
       " 'Australia_163.png',\n",
       " 'Australia_164.png',\n",
       " 'Australia_165.png',\n",
       " 'Australia_166.png',\n",
       " 'Australia_167.png',\n",
       " 'Australia_168.png',\n",
       " 'Australia_169.png',\n",
       " 'Australia_17.png',\n",
       " 'Australia_170.png',\n",
       " 'Australia_171.png',\n",
       " 'Australia_172.png',\n",
       " 'Australia_173.png',\n",
       " 'Australia_174.png',\n",
       " 'Australia_175.png',\n",
       " 'Australia_176.png',\n",
       " 'Australia_177.png',\n",
       " 'Australia_178.png',\n",
       " 'Australia_179.png',\n",
       " 'Australia_18.png',\n",
       " 'Australia_180.png',\n",
       " 'Australia_181.png',\n",
       " 'Australia_182.png',\n",
       " 'Australia_183.png',\n",
       " 'Australia_184.png',\n",
       " 'Australia_185.png',\n",
       " 'Australia_186.png',\n",
       " 'Australia_187.png',\n",
       " 'Australia_188.png',\n",
       " 'Australia_189.png',\n",
       " 'Australia_19.png',\n",
       " 'Australia_190.png',\n",
       " 'Australia_191.png',\n",
       " 'Australia_192.png',\n",
       " 'Australia_193.png',\n",
       " 'Australia_194.png',\n",
       " 'Australia_195.png',\n",
       " 'Australia_196.png',\n",
       " 'Australia_197.png',\n",
       " 'Australia_198.png',\n",
       " 'Australia_199.png',\n",
       " 'Australia_2.png',\n",
       " 'Australia_20.png',\n",
       " 'Australia_200.png',\n",
       " 'Australia_201.png',\n",
       " 'Australia_202.png',\n",
       " 'Australia_203.png',\n",
       " 'Australia_204.png',\n",
       " 'Australia_205.png',\n",
       " 'Australia_206.png',\n",
       " 'Australia_207.png',\n",
       " 'Australia_208.png',\n",
       " 'Australia_209.png',\n",
       " 'Australia_21.png',\n",
       " 'Australia_210.png',\n",
       " 'Australia_211.png',\n",
       " 'Australia_212.png',\n",
       " 'Australia_213.png',\n",
       " 'Australia_214.png',\n",
       " 'Australia_215.png',\n",
       " 'Australia_216.png',\n",
       " 'Australia_217.png',\n",
       " 'Australia_218.png',\n",
       " 'Australia_219.png',\n",
       " 'Australia_22.png',\n",
       " 'Australia_220.png',\n",
       " 'Australia_221.png',\n",
       " 'Australia_222.png',\n",
       " 'Australia_223.png',\n",
       " 'Australia_224.png',\n",
       " 'Australia_225.png',\n",
       " 'Australia_226.png',\n",
       " 'Australia_227.png',\n",
       " 'Australia_228.png',\n",
       " 'Australia_229.png',\n",
       " 'Australia_23.png',\n",
       " 'Australia_230.png',\n",
       " 'Australia_231.png',\n",
       " 'Australia_232.png',\n",
       " 'Australia_233.png',\n",
       " 'Australia_234.png',\n",
       " 'Australia_235.png',\n",
       " 'Australia_236.png',\n",
       " 'Australia_237.png',\n",
       " 'Australia_238.png',\n",
       " 'Australia_239.png',\n",
       " 'Australia_24.png',\n",
       " 'Australia_240.png',\n",
       " 'Australia_241.png',\n",
       " 'Australia_242.png',\n",
       " 'Australia_243.png',\n",
       " 'Australia_244.png',\n",
       " 'Australia_245.png',\n",
       " 'Australia_246.png',\n",
       " 'Australia_247.png',\n",
       " 'Australia_248.png',\n",
       " 'Australia_249.png',\n",
       " 'Australia_25.png',\n",
       " 'Australia_250.png',\n",
       " 'Australia_251.png',\n",
       " 'Australia_252.png',\n",
       " 'Australia_253.png',\n",
       " 'Australia_254.png',\n",
       " 'Australia_255.png',\n",
       " 'Australia_256.png',\n",
       " 'Australia_257.png',\n",
       " 'Australia_258.png',\n",
       " 'Australia_259.png',\n",
       " 'Australia_26.png',\n",
       " 'Australia_260.png',\n",
       " 'Australia_261.png',\n",
       " 'Australia_262.png',\n",
       " 'Australia_263.png',\n",
       " 'Australia_264.png',\n",
       " 'Australia_265.png',\n",
       " 'Australia_266.png',\n",
       " 'Australia_267.png',\n",
       " 'Australia_268.png',\n",
       " 'Australia_269.png',\n",
       " 'Australia_27.png',\n",
       " 'Australia_270.png',\n",
       " 'Australia_271.png',\n",
       " 'Australia_272.png',\n",
       " 'Australia_273.png',\n",
       " 'Australia_274.png',\n",
       " 'Australia_275.png',\n",
       " 'Australia_276.png',\n",
       " 'Australia_277.png',\n",
       " 'Australia_278.png',\n",
       " 'Australia_279.png',\n",
       " 'Australia_28.png',\n",
       " 'Australia_280.png',\n",
       " 'Australia_281.png',\n",
       " 'Australia_282.png',\n",
       " 'Australia_283.png',\n",
       " 'Australia_284.png',\n",
       " 'Australia_285.png',\n",
       " 'Australia_286.png',\n",
       " 'Australia_287.png',\n",
       " 'Australia_288.png',\n",
       " 'Australia_289.png',\n",
       " 'Australia_29.png',\n",
       " 'Australia_290.png',\n",
       " 'Australia_291.png',\n",
       " 'Australia_292.png',\n",
       " 'Australia_293.png',\n",
       " 'Australia_294.png',\n",
       " 'Australia_295.png',\n",
       " 'Australia_296.png',\n",
       " 'Australia_297.png',\n",
       " 'Australia_298.png',\n",
       " 'Australia_299.png',\n",
       " 'Australia_3.png',\n",
       " 'Australia_30.png',\n",
       " 'Australia_300.png',\n",
       " 'Australia_301.png',\n",
       " 'Australia_302.png',\n",
       " 'Australia_303.png',\n",
       " 'Australia_304.png',\n",
       " 'Australia_305.png',\n",
       " 'Australia_306.png',\n",
       " 'Australia_307.png',\n",
       " 'Australia_308.png',\n",
       " 'Australia_309.png',\n",
       " 'Australia_31.png',\n",
       " 'Australia_310.png',\n",
       " 'Australia_311.png',\n",
       " 'Australia_312.png',\n",
       " 'Australia_313.png',\n",
       " 'Australia_314.png',\n",
       " 'Australia_315.png',\n",
       " 'Australia_316.png',\n",
       " 'Australia_317.png',\n",
       " 'Australia_318.png',\n",
       " 'Australia_319.png',\n",
       " 'Australia_32.png',\n",
       " 'Australia_320.png',\n",
       " 'Australia_321.png',\n",
       " 'Australia_322.png',\n",
       " 'Australia_323.png',\n",
       " 'Australia_324.png',\n",
       " 'Australia_325.png',\n",
       " 'Australia_326.png',\n",
       " 'Australia_327.png',\n",
       " 'Australia_328.png',\n",
       " 'Australia_329.png',\n",
       " 'Australia_33.png',\n",
       " 'Australia_330.png',\n",
       " 'Australia_331.png',\n",
       " 'Australia_332.png',\n",
       " 'Australia_333.png',\n",
       " 'Australia_334.png',\n",
       " 'Australia_335.png',\n",
       " 'Australia_336.png',\n",
       " 'Australia_337.png',\n",
       " 'Australia_338.png',\n",
       " 'Australia_339.png',\n",
       " 'Australia_34.png',\n",
       " 'Australia_340.png',\n",
       " 'Australia_341.png',\n",
       " 'Australia_342.png',\n",
       " 'Australia_343.png',\n",
       " 'Australia_344.png',\n",
       " 'Australia_345.png',\n",
       " 'Australia_346.png',\n",
       " 'Australia_347.png',\n",
       " 'Australia_348.png',\n",
       " 'Australia_349.png',\n",
       " 'Australia_35.png',\n",
       " 'Australia_350.png',\n",
       " 'Australia_351.png',\n",
       " 'Australia_352.png',\n",
       " 'Australia_353.png',\n",
       " 'Australia_354.png',\n",
       " 'Australia_355.png',\n",
       " 'Australia_356.png',\n",
       " 'Australia_357.png',\n",
       " 'Australia_358.png',\n",
       " 'Australia_359.png',\n",
       " 'Australia_36.png',\n",
       " 'Australia_360.png',\n",
       " 'Australia_361.png',\n",
       " 'Australia_362.png',\n",
       " 'Australia_363.png',\n",
       " 'Australia_364.png',\n",
       " 'Australia_365.png',\n",
       " 'Australia_366.png',\n",
       " 'Australia_367.png',\n",
       " 'Australia_368.png',\n",
       " 'Australia_369.png',\n",
       " 'Australia_37.png',\n",
       " 'Australia_370.png',\n",
       " 'Australia_371.png',\n",
       " 'Australia_372.png',\n",
       " 'Australia_373.png',\n",
       " 'Australia_374.png',\n",
       " 'Australia_375.png',\n",
       " 'Australia_376.png',\n",
       " 'Australia_377.png',\n",
       " 'Australia_378.png',\n",
       " 'Australia_379.png',\n",
       " 'Australia_38.png',\n",
       " 'Australia_380.png',\n",
       " 'Australia_381.png',\n",
       " 'Australia_382.png',\n",
       " 'Australia_383.png',\n",
       " 'Australia_384.png',\n",
       " 'Australia_385.png',\n",
       " 'Australia_386.png',\n",
       " 'Australia_387.png',\n",
       " 'Australia_388.png',\n",
       " 'Australia_389.png',\n",
       " 'Australia_39.png',\n",
       " 'Australia_390.png',\n",
       " 'Australia_391.png',\n",
       " 'Australia_392.png',\n",
       " 'Australia_393.png',\n",
       " 'Australia_394.png',\n",
       " 'Australia_395.png',\n",
       " 'Australia_396.png',\n",
       " 'Australia_397.png',\n",
       " 'Australia_398.png',\n",
       " 'Australia_399.png',\n",
       " 'Australia_4.png',\n",
       " 'Australia_40.png',\n",
       " 'Australia_400.png',\n",
       " 'Australia_401.png',\n",
       " 'Australia_402.png',\n",
       " 'Australia_403.png',\n",
       " 'Australia_404.png',\n",
       " 'Australia_405.png',\n",
       " 'Australia_406.png',\n",
       " 'Australia_407.png',\n",
       " 'Australia_408.png',\n",
       " 'Australia_409.png',\n",
       " 'Australia_41.png',\n",
       " 'Australia_410.png',\n",
       " 'Australia_411.png',\n",
       " 'Australia_412.png',\n",
       " 'Australia_413.png',\n",
       " 'Australia_414.png',\n",
       " 'Australia_415.png',\n",
       " 'Australia_416.png',\n",
       " 'Australia_417.png',\n",
       " 'Australia_418.png',\n",
       " 'Australia_419.png',\n",
       " 'Australia_42.png',\n",
       " 'Australia_420.png',\n",
       " 'Australia_421.png',\n",
       " 'Australia_422.png',\n",
       " 'Australia_423.png',\n",
       " 'Australia_424.png',\n",
       " 'Australia_425.png',\n",
       " 'Australia_426.png',\n",
       " 'Australia_427.png',\n",
       " 'Australia_428.png',\n",
       " 'Australia_429.png',\n",
       " 'Australia_43.png',\n",
       " 'Australia_430.png',\n",
       " 'Australia_431.png',\n",
       " 'Australia_432.png',\n",
       " 'Australia_433.png',\n",
       " 'Australia_434.png',\n",
       " 'Australia_435.png',\n",
       " 'Australia_436.png',\n",
       " 'Australia_437.png',\n",
       " 'Australia_438.png',\n",
       " 'Australia_439.png',\n",
       " 'Australia_44.png',\n",
       " 'Australia_440.png',\n",
       " 'Australia_441.png',\n",
       " 'Australia_442.png',\n",
       " 'Australia_443.png',\n",
       " 'Australia_444.png',\n",
       " 'Australia_445.png',\n",
       " 'Australia_446.png',\n",
       " 'Australia_447.png',\n",
       " 'Australia_448.png',\n",
       " 'Australia_449.png',\n",
       " 'Australia_45.png',\n",
       " 'Australia_450.png',\n",
       " 'Australia_451.png',\n",
       " 'Australia_452.png',\n",
       " 'Australia_453.png',\n",
       " 'Australia_454.png',\n",
       " 'Australia_455.png',\n",
       " 'Australia_456.png',\n",
       " 'Australia_457.png',\n",
       " 'Australia_458.png',\n",
       " 'Australia_459.png',\n",
       " 'Australia_46.png',\n",
       " 'Australia_460.png',\n",
       " 'Australia_461.png',\n",
       " 'Australia_462.png',\n",
       " 'Australia_463.png',\n",
       " 'Australia_464.png',\n",
       " 'Australia_465.png',\n",
       " 'Australia_466.png',\n",
       " 'Australia_467.png',\n",
       " 'Australia_468.png',\n",
       " 'Australia_469.png',\n",
       " 'Australia_47.png',\n",
       " 'Australia_470.png',\n",
       " 'Australia_471.png',\n",
       " 'Australia_472.png',\n",
       " 'Australia_473.png',\n",
       " 'Australia_474.png',\n",
       " 'Australia_475.png',\n",
       " 'Australia_476.png',\n",
       " 'Australia_477.png',\n",
       " 'Australia_478.png',\n",
       " 'Australia_479.png',\n",
       " 'Australia_48.png',\n",
       " 'Australia_480.png',\n",
       " 'Australia_481.png',\n",
       " 'Australia_482.png',\n",
       " 'Australia_483.png',\n",
       " 'Australia_484.png',\n",
       " 'Australia_485.png',\n",
       " 'Australia_486.png',\n",
       " 'Australia_487.png',\n",
       " 'Australia_488.png',\n",
       " 'Australia_489.png',\n",
       " 'Australia_49.png',\n",
       " 'Australia_490.png',\n",
       " 'Australia_491.png',\n",
       " 'Australia_492.png',\n",
       " 'Australia_493.png',\n",
       " 'Australia_494.png',\n",
       " 'Australia_495.png',\n",
       " 'Australia_496.png',\n",
       " 'Australia_497.png',\n",
       " 'Australia_498.png',\n",
       " 'Australia_499.png',\n",
       " 'Australia_5.png',\n",
       " 'Australia_50.png',\n",
       " 'Australia_500.png',\n",
       " 'Australia_501.png',\n",
       " 'Australia_502.png',\n",
       " 'Australia_503.png',\n",
       " 'Australia_504.png',\n",
       " 'Australia_505.png',\n",
       " 'Australia_506.png',\n",
       " 'Australia_507.png',\n",
       " 'Australia_508.png',\n",
       " 'Australia_509.png',\n",
       " 'Australia_51.png',\n",
       " 'Australia_510.png',\n",
       " 'Australia_511.png',\n",
       " 'Australia_512.png',\n",
       " 'Australia_513.png',\n",
       " 'Australia_52.png',\n",
       " 'Australia_53.png',\n",
       " 'Australia_54.png',\n",
       " 'Australia_55.png',\n",
       " 'Australia_56.png',\n",
       " 'Australia_57.png',\n",
       " 'Australia_58.png',\n",
       " 'Australia_59.png',\n",
       " 'Australia_6.png',\n",
       " 'Australia_60.png',\n",
       " 'Australia_61.png',\n",
       " 'Australia_62.png',\n",
       " 'Australia_63.png',\n",
       " 'Australia_64.png',\n",
       " 'Australia_65.png',\n",
       " 'Australia_66.png',\n",
       " 'Australia_67.png',\n",
       " 'Australia_68.png',\n",
       " 'Australia_69.png',\n",
       " 'Australia_7.png',\n",
       " 'Australia_70.png',\n",
       " 'Australia_71.png',\n",
       " 'Australia_72.png',\n",
       " 'Australia_73.png',\n",
       " 'Australia_74.png',\n",
       " 'Australia_75.png',\n",
       " 'Australia_76.png',\n",
       " 'Australia_77.png',\n",
       " 'Australia_78.png',\n",
       " 'Australia_79.png',\n",
       " 'Australia_8.png',\n",
       " 'Australia_80.png',\n",
       " 'Australia_81.png',\n",
       " 'Australia_82.png',\n",
       " 'Australia_83.png',\n",
       " 'Australia_84.png',\n",
       " 'Australia_85.png',\n",
       " 'Australia_86.png',\n",
       " 'Australia_87.png',\n",
       " 'Australia_88.png',\n",
       " 'Australia_89.png',\n",
       " 'Australia_9.png',\n",
       " 'Australia_90.png',\n",
       " 'Australia_91.png',\n",
       " 'Australia_92.png',\n",
       " 'Australia_93.png',\n",
       " 'Australia_94.png',\n",
       " 'Australia_95.png',\n",
       " 'Australia_96.png',\n",
       " 'Australia_97.png',\n",
       " 'Australia_98.png',\n",
       " 'Australia_99.png']"
      ]
     },
     "execution_count": 18,
     "metadata": {},
     "output_type": "execute_result"
    }
   ],
   "source": [
    "image_list"
   ]
  },
  {
   "cell_type": "code",
   "execution_count": 24,
   "metadata": {},
   "outputs": [],
   "source": [
    "# for i in range(1, len(image_list)):\n",
    "#     name = image_list[i]\n",
    "#     new_name = \"Korea_{}.png\".format(i)\n",
    "#     os.rename('Australia/{}'.format(name),'Australia/{}'.format(new_name))"
   ]
  },
  {
   "cell_type": "code",
   "execution_count": null,
   "metadata": {},
   "outputs": [],
   "source": []
  },
  {
   "cell_type": "code",
   "execution_count": 2,
   "metadata": {},
   "outputs": [],
   "source": [
    "with open('map_data.pickle', 'wb') as file:\n",
    "    pickle.dump({}, file, pickle.HIGHEST_PROTOCOL)"
   ]
  },
  {
   "cell_type": "code",
   "execution_count": null,
   "metadata": {},
   "outputs": [],
   "source": [
    "# gzip 을 이용하여 pickle 데이터를 압축 저장 할 수도 있다\n",
    "import pickle\n",
    "import gzip\n",
    "\n",
    "data = {\n",
    "    'a': [1, 2.0, 3, 4+6j],\n",
    "    'b': (\"character string\", b\"byte string\"),\n",
    "    'c': {None, True, False}\n",
    "}\n",
    "\n",
    "# save and compress.\n",
    "with gzip.open('testPickleFile.pickle', 'wb') as f:\n",
    "    pickle.dump(data, f)\n",
    "\n",
    "# load and uncompress.\n",
    "with gzip.open('testPickleFile.pickle','rb') as f:\n",
    "    data = pickle.load(f)"
   ]
  },
  {
   "cell_type": "code",
   "execution_count": null,
   "metadata": {},
   "outputs": [],
   "source": []
  },
  {
   "cell_type": "code",
   "execution_count": 3,
   "metadata": {},
   "outputs": [],
   "source": [
    "# 중복데이터를 방지하기 위한 방법\n",
    "# map_data를 저장하여 같은 장소에서 3번 크롤러가 돌 경우 -2 해주고 url를 다시 받아온다.\n",
    "# map_data를 저장하여 놓았다가 크롤러를 다시 사용할때 로드하여 사용한다.\n",
    "# url에서 카메라의 초기 방향을 랜덤(여기서는 보통 길이 난 방향으로 맞춰 놓았고, 좌,우,반대 방향에 길이 대부분 있으니 완전 랜덤 보다는 90, 180, 170 각도로 돌게함)으로 준다.\n",
    "# url의 개수를 늘린다."
   ]
  },
  {
   "cell_type": "code",
   "execution_count": 35,
   "metadata": {},
   "outputs": [],
   "source": [
    "url = 'https://www.google.com/maps/@-33.8794048,151.2054464,3a,75y,10h,82.01t/data=!3m6!1e1!3m4!1soutl-B0oddFegWjywIC2BA!2e0!7i13312!8i6656'"
   ]
  },
  {
   "cell_type": "code",
   "execution_count": 51,
   "metadata": {},
   "outputs": [
    {
     "data": {
      "text/plain": [
       "'https://www.google.com/maps/@-33.8794048,151.2054464,3a,75y,190.0h,82.01t/data=!3m6!1e1!3m4!1soutl-B0oddFegWjywIC2BA!2e0!7i13312!8i6656'"
      ]
     },
     "execution_count": 51,
     "metadata": {},
     "output_type": "execute_result"
    }
   ],
   "source": [
    "edit_direction(url)"
   ]
  },
  {
   "cell_type": "code",
   "execution_count": 60,
   "metadata": {},
   "outputs": [],
   "source": [
    "pyautogui.dragTo(500, 500)"
   ]
  },
  {
   "cell_type": "code",
   "execution_count": 61,
   "metadata": {},
   "outputs": [
    {
     "name": "stdout",
     "output_type": "stream",
     "text": [
      "0\n",
      "1\n",
      "2\n"
     ]
    }
   ],
   "source": [
    "for s in range(3):\n",
    "    print(s)"
   ]
  },
  {
   "cell_type": "code",
   "execution_count": 22,
   "metadata": {},
   "outputs": [],
   "source": [
    "#time.sleep(3)\n",
    "pyautogui.moveTo(1900, None)\n",
    "#pyautogui.dragTo(1870, None, duration=0.3, button='left')"
   ]
  },
  {
   "cell_type": "code",
   "execution_count": 39,
   "metadata": {},
   "outputs": [],
   "source": [
    "time.sleep(3)\n",
    "pyautogui.moveTo(50, 520)\n",
    "pyautogui.dragTo(1870, None, duration=1, button='left')\n",
    "time.sleep(0.5)\n",
    "for s in range(3):\n",
    "    pyautogui.moveTo(x=None, y=50, duration=0.3)\n",
    "    time.sleep(0.5)\n",
    "    if s == 2:\n",
    "        pyautogui.moveTo(50, 520)\n",
    "        pyautogui.dragTo(1870, None, duration=1, button='left')\n",
    "    else:\n",
    "        pyautogui.moveTo(1870, 520)\n",
    "        pyautogui.dragTo(50, None, duration=1, button='left')"
   ]
  },
  {
   "cell_type": "code",
   "execution_count": 27,
   "metadata": {},
   "outputs": [],
   "source": [
    "pyautogui.moveTo(970, 520)\n",
    "pyautogui.dragTo(1870, None, duration=0.3, button='left')"
   ]
  },
  {
   "cell_type": "code",
   "execution_count": null,
   "metadata": {},
   "outputs": [],
   "source": []
  },
  {
   "cell_type": "code",
   "execution_count": null,
   "metadata": {},
   "outputs": [],
   "source": []
  },
  {
   "cell_type": "code",
   "execution_count": 10,
   "metadata": {},
   "outputs": [],
   "source": [
    "# 수동 이미지 저장"
   ]
  },
  {
   "cell_type": "code",
   "execution_count": 23,
   "metadata": {},
   "outputs": [],
   "source": [
    "# 사진 저장(수동)\n",
    "def save_screenshot_2(country_name, count):\n",
    "    street_view = driver.find_element_by_class_name('widget-scene-canvas')\n",
    "    street_view.screenshot('./{}/{}_{}.png'.format(country_name, country_name, count))\n",
    "    print('이미지 저장 완료! count: ', count)\n",
    "    count += 1\n",
    "    return count"
   ]
  },
  {
   "cell_type": "code",
   "execution_count": 40,
   "metadata": {},
   "outputs": [],
   "source": [
    "country_name = 'United_States'\n",
    "make_directory(country_name)\n",
    "total_crawling_count, max_num = check_image_count(country_name, 1600)"
   ]
  },
  {
   "cell_type": "code",
   "execution_count": 41,
   "metadata": {
    "scrolled": true
   },
   "outputs": [
    {
     "name": "stdout",
     "output_type": "stream",
     "text": [
      "country_name:  United_States\n",
      "total_crawling_count:  99\n",
      "max_num:  1950\n"
     ]
    }
   ],
   "source": [
    "print('country_name: ', country_name)\n",
    "print('total_crawling_count: ', total_crawling_count)\n",
    "print('max_num: ', max_num)"
   ]
  },
  {
   "cell_type": "code",
   "execution_count": 42,
   "metadata": {},
   "outputs": [],
   "source": [
    "count = max_num + 1"
   ]
  },
  {
   "cell_type": "code",
   "execution_count": 43,
   "metadata": {},
   "outputs": [],
   "source": [
    "driver = webdriver.Chrome('/usr/lib/chromium-browser/chromedriver')"
   ]
  },
  {
   "cell_type": "code",
   "execution_count": 14,
   "metadata": {},
   "outputs": [],
   "source": [
    "from pynput import keyboard\n",
    "from pynput.keyboard import Key"
   ]
  },
  {
   "cell_type": "code",
   "execution_count": 44,
   "metadata": {
    "scrolled": true
   },
   "outputs": [
    {
     "name": "stdout",
     "output_type": "stream",
     "text": [
      "이미지 저장 완료! count:  1951\n",
      "이미지 저장 완료! count:  1952\n",
      "이미지 저장 완료! count:  1953\n",
      "이미지 저장 완료! count:  1954\n",
      "이미지 저장 완료! count:  1955\n",
      "이미지 저장 완료! count:  1956\n",
      "이미지 저장 완료! count:  1957\n"
     ]
    },
    {
     "name": "stderr",
     "output_type": "stream",
     "text": [
      "Unhandled exception in listener callback\n",
      "Traceback (most recent call last):\n",
      "  File \"/home/pi/.local/lib/python3.7/site-packages/pynput/_util/__init__.py\", line 162, in inner\n",
      "    return f(self, *args, **kwargs)\n",
      "  File \"/home/pi/.local/lib/python3.7/site-packages/pynput/_util/xorg.py\", line 458, in _handler\n",
      "    self._handle(self._display_stop, event)\n",
      "  File \"/home/pi/.local/lib/python3.7/site-packages/pynput/keyboard/_xorg.py\", line 552, in _handle\n",
      "    self.on_release(key)\n",
      "  File \"/home/pi/.local/lib/python3.7/site-packages/pynput/_util/__init__.py\", line 78, in inner\n",
      "    if f(*args) is False:\n",
      "  File \"<ipython-input-44-036d72015556>\", line 8, in on_release\n",
      "    remove_widgets()\n",
      "  File \"<ipython-input-8-429a91575f24>\", line 4, in remove_widgets\n",
      "    remove_list.append(driver.find_element_by_class_name('widget-titlecard'))\n",
      "  File \"/usr/local/lib/python3.7/dist-packages/selenium/webdriver/remote/webdriver.py\", line 564, in find_element_by_class_name\n",
      "    return self.find_element(by=By.CLASS_NAME, value=name)\n",
      "  File \"/usr/local/lib/python3.7/dist-packages/selenium/webdriver/remote/webdriver.py\", line 978, in find_element\n",
      "    'value': value})['value']\n",
      "  File \"/usr/local/lib/python3.7/dist-packages/selenium/webdriver/remote/webdriver.py\", line 321, in execute\n",
      "    self.error_handler.check_response(response)\n",
      "  File \"/usr/local/lib/python3.7/dist-packages/selenium/webdriver/remote/errorhandler.py\", line 242, in check_response\n",
      "    raise exception_class(message, screen, stacktrace)\n",
      "selenium.common.exceptions.WebDriverException: Message: unknown error: session deleted because of page crash\n",
      "from unknown error: cannot determine loading status\n",
      "from tab crashed\n",
      "  (Session info: chrome=79.0.3945.79)\n",
      "\n"
     ]
    },
    {
     "ename": "WebDriverException",
     "evalue": "Message: unknown error: session deleted because of page crash\nfrom unknown error: cannot determine loading status\nfrom tab crashed\n  (Session info: chrome=79.0.3945.79)\n",
     "output_type": "error",
     "traceback": [
      "\u001b[0;31m---------------------------------------------------------------------------\u001b[0m",
      "\u001b[0;31mWebDriverException\u001b[0m                        Traceback (most recent call last)",
      "\u001b[0;32m<ipython-input-44-036d72015556>\u001b[0m in \u001b[0;36m<module>\u001b[0;34m()\u001b[0m\n\u001b[1;32m     11\u001b[0m \u001b[0;34m\u001b[0m\u001b[0m\n\u001b[1;32m     12\u001b[0m \u001b[0;32mwith\u001b[0m \u001b[0mkeyboard\u001b[0m\u001b[0;34m.\u001b[0m\u001b[0mListener\u001b[0m\u001b[0;34m(\u001b[0m\u001b[0mon_press\u001b[0m\u001b[0;34m=\u001b[0m\u001b[0mon_press\u001b[0m\u001b[0;34m,\u001b[0m\u001b[0mon_release\u001b[0m\u001b[0;34m=\u001b[0m\u001b[0mon_release\u001b[0m\u001b[0;34m)\u001b[0m \u001b[0;32mas\u001b[0m \u001b[0mlistener\u001b[0m\u001b[0;34m:\u001b[0m\u001b[0;34m\u001b[0m\u001b[0;34m\u001b[0m\u001b[0m\n\u001b[0;32m---> 13\u001b[0;31m     \u001b[0mlistener\u001b[0m\u001b[0;34m.\u001b[0m\u001b[0mjoin\u001b[0m\u001b[0;34m(\u001b[0m\u001b[0;34m)\u001b[0m\u001b[0;34m\u001b[0m\u001b[0;34m\u001b[0m\u001b[0m\n\u001b[0m",
      "\u001b[0;32m/home/pi/.local/lib/python3.7/site-packages/pynput/_util/__init__.py\u001b[0m in \u001b[0;36mjoin\u001b[0;34m(self, *args)\u001b[0m\n\u001b[1;32m    208\u001b[0m         \u001b[0;32mexcept\u001b[0m \u001b[0mTypeError\u001b[0m\u001b[0;34m:\u001b[0m\u001b[0;34m\u001b[0m\u001b[0;34m\u001b[0m\u001b[0m\n\u001b[1;32m    209\u001b[0m             \u001b[0;32mreturn\u001b[0m\u001b[0;34m\u001b[0m\u001b[0;34m\u001b[0m\u001b[0m\n\u001b[0;32m--> 210\u001b[0;31m         \u001b[0msix\u001b[0m\u001b[0;34m.\u001b[0m\u001b[0mreraise\u001b[0m\u001b[0;34m(\u001b[0m\u001b[0mexc_type\u001b[0m\u001b[0;34m,\u001b[0m \u001b[0mexc_value\u001b[0m\u001b[0;34m,\u001b[0m \u001b[0mexc_traceback\u001b[0m\u001b[0;34m)\u001b[0m\u001b[0;34m\u001b[0m\u001b[0;34m\u001b[0m\u001b[0m\n\u001b[0m\u001b[1;32m    211\u001b[0m \u001b[0;34m\u001b[0m\u001b[0m\n\u001b[1;32m    212\u001b[0m \u001b[0;34m\u001b[0m\u001b[0m\n",
      "\u001b[0;32m/home/pi/.local/lib/python3.7/site-packages/six.py\u001b[0m in \u001b[0;36mreraise\u001b[0;34m(tp, value, tb)\u001b[0m\n\u001b[1;32m    700\u001b[0m                 \u001b[0mvalue\u001b[0m \u001b[0;34m=\u001b[0m \u001b[0mtp\u001b[0m\u001b[0;34m(\u001b[0m\u001b[0;34m)\u001b[0m\u001b[0;34m\u001b[0m\u001b[0;34m\u001b[0m\u001b[0m\n\u001b[1;32m    701\u001b[0m             \u001b[0;32mif\u001b[0m \u001b[0mvalue\u001b[0m\u001b[0;34m.\u001b[0m\u001b[0m__traceback__\u001b[0m \u001b[0;32mis\u001b[0m \u001b[0;32mnot\u001b[0m \u001b[0mtb\u001b[0m\u001b[0;34m:\u001b[0m\u001b[0;34m\u001b[0m\u001b[0;34m\u001b[0m\u001b[0m\n\u001b[0;32m--> 702\u001b[0;31m                 \u001b[0;32mraise\u001b[0m \u001b[0mvalue\u001b[0m\u001b[0;34m.\u001b[0m\u001b[0mwith_traceback\u001b[0m\u001b[0;34m(\u001b[0m\u001b[0mtb\u001b[0m\u001b[0;34m)\u001b[0m\u001b[0;34m\u001b[0m\u001b[0;34m\u001b[0m\u001b[0m\n\u001b[0m\u001b[1;32m    703\u001b[0m             \u001b[0;32mraise\u001b[0m \u001b[0mvalue\u001b[0m\u001b[0;34m\u001b[0m\u001b[0;34m\u001b[0m\u001b[0m\n\u001b[1;32m    704\u001b[0m         \u001b[0;32mfinally\u001b[0m\u001b[0;34m:\u001b[0m\u001b[0;34m\u001b[0m\u001b[0;34m\u001b[0m\u001b[0m\n",
      "\u001b[0;32m/home/pi/.local/lib/python3.7/site-packages/pynput/_util/__init__.py\u001b[0m in \u001b[0;36minner\u001b[0;34m(self, *args, **kwargs)\u001b[0m\n\u001b[1;32m    160\u001b[0m             \u001b[0;31m# pylint: disable=W0702; we want to catch all exception\u001b[0m\u001b[0;34m\u001b[0m\u001b[0;34m\u001b[0m\u001b[0;34m\u001b[0m\u001b[0m\n\u001b[1;32m    161\u001b[0m             \u001b[0;32mtry\u001b[0m\u001b[0;34m:\u001b[0m\u001b[0;34m\u001b[0m\u001b[0;34m\u001b[0m\u001b[0m\n\u001b[0;32m--> 162\u001b[0;31m                 \u001b[0;32mreturn\u001b[0m \u001b[0mf\u001b[0m\u001b[0;34m(\u001b[0m\u001b[0mself\u001b[0m\u001b[0;34m,\u001b[0m \u001b[0;34m*\u001b[0m\u001b[0margs\u001b[0m\u001b[0;34m,\u001b[0m \u001b[0;34m**\u001b[0m\u001b[0mkwargs\u001b[0m\u001b[0;34m)\u001b[0m\u001b[0;34m\u001b[0m\u001b[0;34m\u001b[0m\u001b[0m\n\u001b[0m\u001b[1;32m    163\u001b[0m             \u001b[0;32mexcept\u001b[0m \u001b[0mException\u001b[0m \u001b[0;32mas\u001b[0m \u001b[0me\u001b[0m\u001b[0;34m:\u001b[0m\u001b[0;34m\u001b[0m\u001b[0;34m\u001b[0m\u001b[0m\n\u001b[1;32m    164\u001b[0m                 \u001b[0;32mif\u001b[0m \u001b[0;32mnot\u001b[0m \u001b[0misinstance\u001b[0m\u001b[0;34m(\u001b[0m\u001b[0me\u001b[0m\u001b[0;34m,\u001b[0m \u001b[0mself\u001b[0m\u001b[0;34m.\u001b[0m\u001b[0m_HANDLED_EXCEPTIONS\u001b[0m\u001b[0;34m)\u001b[0m\u001b[0;34m:\u001b[0m\u001b[0;34m\u001b[0m\u001b[0;34m\u001b[0m\u001b[0m\n",
      "\u001b[0;32m/home/pi/.local/lib/python3.7/site-packages/pynput/_util/xorg.py\u001b[0m in \u001b[0;36m_handler\u001b[0;34m(self, events)\u001b[0m\n\u001b[1;32m    456\u001b[0m             event, data = self._EVENT_PARSER.parse_binary_value(\n\u001b[1;32m    457\u001b[0m                 data, self._display_record.display, None, None)\n\u001b[0;32m--> 458\u001b[0;31m             \u001b[0mself\u001b[0m\u001b[0;34m.\u001b[0m\u001b[0m_handle\u001b[0m\u001b[0;34m(\u001b[0m\u001b[0mself\u001b[0m\u001b[0;34m.\u001b[0m\u001b[0m_display_stop\u001b[0m\u001b[0;34m,\u001b[0m \u001b[0mevent\u001b[0m\u001b[0;34m)\u001b[0m\u001b[0;34m\u001b[0m\u001b[0;34m\u001b[0m\u001b[0m\n\u001b[0m\u001b[1;32m    459\u001b[0m \u001b[0;34m\u001b[0m\u001b[0m\n\u001b[1;32m    460\u001b[0m     \u001b[0;32mdef\u001b[0m \u001b[0m_initialize\u001b[0m\u001b[0;34m(\u001b[0m\u001b[0mself\u001b[0m\u001b[0;34m,\u001b[0m \u001b[0mdisplay\u001b[0m\u001b[0;34m)\u001b[0m\u001b[0;34m:\u001b[0m\u001b[0;34m\u001b[0m\u001b[0;34m\u001b[0m\u001b[0m\n",
      "\u001b[0;32m/home/pi/.local/lib/python3.7/site-packages/pynput/keyboard/_xorg.py\u001b[0m in \u001b[0;36m_handle\u001b[0;34m(self, display, event)\u001b[0m\n\u001b[1;32m    550\u001b[0m \u001b[0;34m\u001b[0m\u001b[0m\n\u001b[1;32m    551\u001b[0m         \u001b[0;32melif\u001b[0m \u001b[0mevent\u001b[0m\u001b[0;34m.\u001b[0m\u001b[0mtype\u001b[0m \u001b[0;34m==\u001b[0m \u001b[0mXlib\u001b[0m\u001b[0;34m.\u001b[0m\u001b[0mX\u001b[0m\u001b[0;34m.\u001b[0m\u001b[0mKeyRelease\u001b[0m\u001b[0;34m:\u001b[0m\u001b[0;34m\u001b[0m\u001b[0;34m\u001b[0m\u001b[0m\n\u001b[0;32m--> 552\u001b[0;31m             \u001b[0mself\u001b[0m\u001b[0;34m.\u001b[0m\u001b[0mon_release\u001b[0m\u001b[0;34m(\u001b[0m\u001b[0mkey\u001b[0m\u001b[0;34m)\u001b[0m\u001b[0;34m\u001b[0m\u001b[0;34m\u001b[0m\u001b[0m\n\u001b[0m\u001b[1;32m    553\u001b[0m \u001b[0;34m\u001b[0m\u001b[0m\n\u001b[1;32m    554\u001b[0m     \u001b[0;32mdef\u001b[0m \u001b[0m_suppress_start\u001b[0m\u001b[0;34m(\u001b[0m\u001b[0mself\u001b[0m\u001b[0;34m,\u001b[0m \u001b[0mdisplay\u001b[0m\u001b[0;34m)\u001b[0m\u001b[0;34m:\u001b[0m\u001b[0;34m\u001b[0m\u001b[0;34m\u001b[0m\u001b[0m\n",
      "\u001b[0;32m/home/pi/.local/lib/python3.7/site-packages/pynput/_util/__init__.py\u001b[0m in \u001b[0;36minner\u001b[0;34m(*args)\u001b[0m\n\u001b[1;32m     76\u001b[0m         \u001b[0;32mdef\u001b[0m \u001b[0mwrapper\u001b[0m\u001b[0;34m(\u001b[0m\u001b[0mf\u001b[0m\u001b[0;34m)\u001b[0m\u001b[0;34m:\u001b[0m\u001b[0;34m\u001b[0m\u001b[0;34m\u001b[0m\u001b[0m\n\u001b[1;32m     77\u001b[0m             \u001b[0;32mdef\u001b[0m \u001b[0minner\u001b[0m\u001b[0;34m(\u001b[0m\u001b[0;34m*\u001b[0m\u001b[0margs\u001b[0m\u001b[0;34m)\u001b[0m\u001b[0;34m:\u001b[0m\u001b[0;34m\u001b[0m\u001b[0;34m\u001b[0m\u001b[0m\n\u001b[0;32m---> 78\u001b[0;31m                 \u001b[0;32mif\u001b[0m \u001b[0mf\u001b[0m\u001b[0;34m(\u001b[0m\u001b[0;34m*\u001b[0m\u001b[0margs\u001b[0m\u001b[0;34m)\u001b[0m \u001b[0;32mis\u001b[0m \u001b[0;32mFalse\u001b[0m\u001b[0;34m:\u001b[0m\u001b[0;34m\u001b[0m\u001b[0;34m\u001b[0m\u001b[0m\n\u001b[0m\u001b[1;32m     79\u001b[0m                     \u001b[0;32mraise\u001b[0m \u001b[0mself\u001b[0m\u001b[0;34m.\u001b[0m\u001b[0mStopException\u001b[0m\u001b[0;34m(\u001b[0m\u001b[0;34m)\u001b[0m\u001b[0;34m\u001b[0m\u001b[0;34m\u001b[0m\u001b[0m\n\u001b[1;32m     80\u001b[0m             \u001b[0;32mreturn\u001b[0m \u001b[0minner\u001b[0m\u001b[0;34m\u001b[0m\u001b[0;34m\u001b[0m\u001b[0m\n",
      "\u001b[0;32m<ipython-input-44-036d72015556>\u001b[0m in \u001b[0;36mon_release\u001b[0;34m(key)\u001b[0m\n\u001b[1;32m      6\u001b[0m     \u001b[0;31m#handle released keys\u001b[0m\u001b[0;34m\u001b[0m\u001b[0;34m\u001b[0m\u001b[0;34m\u001b[0m\u001b[0m\n\u001b[1;32m      7\u001b[0m     \u001b[0;32mif\u001b[0m\u001b[0;34m(\u001b[0m\u001b[0mkey\u001b[0m\u001b[0;34m==\u001b[0m\u001b[0mKey\u001b[0m\u001b[0;34m.\u001b[0m\u001b[0malt\u001b[0m\u001b[0;34m)\u001b[0m\u001b[0;34m:\u001b[0m\u001b[0;34m\u001b[0m\u001b[0;34m\u001b[0m\u001b[0m\n\u001b[0;32m----> 8\u001b[0;31m         \u001b[0mremove_widgets\u001b[0m\u001b[0;34m(\u001b[0m\u001b[0;34m)\u001b[0m\u001b[0;34m\u001b[0m\u001b[0;34m\u001b[0m\u001b[0m\n\u001b[0m\u001b[1;32m      9\u001b[0m         \u001b[0;32mglobal\u001b[0m \u001b[0mcount\u001b[0m\u001b[0;34m\u001b[0m\u001b[0;34m\u001b[0m\u001b[0m\n\u001b[1;32m     10\u001b[0m         \u001b[0mcount\u001b[0m \u001b[0;34m=\u001b[0m \u001b[0msave_screenshot_2\u001b[0m\u001b[0;34m(\u001b[0m\u001b[0mcountry_name\u001b[0m\u001b[0;34m,\u001b[0m \u001b[0mcount\u001b[0m\u001b[0;34m)\u001b[0m\u001b[0;34m\u001b[0m\u001b[0;34m\u001b[0m\u001b[0m\n",
      "\u001b[0;32m<ipython-input-8-429a91575f24>\u001b[0m in \u001b[0;36mremove_widgets\u001b[0;34m()\u001b[0m\n\u001b[1;32m      2\u001b[0m \u001b[0;32mdef\u001b[0m \u001b[0mremove_widgets\u001b[0m\u001b[0;34m(\u001b[0m\u001b[0;34m)\u001b[0m\u001b[0;34m:\u001b[0m\u001b[0;34m\u001b[0m\u001b[0;34m\u001b[0m\u001b[0m\n\u001b[1;32m      3\u001b[0m     \u001b[0mremove_list\u001b[0m \u001b[0;34m=\u001b[0m \u001b[0;34m[\u001b[0m\u001b[0;34m]\u001b[0m\u001b[0;34m\u001b[0m\u001b[0;34m\u001b[0m\u001b[0m\n\u001b[0;32m----> 4\u001b[0;31m     \u001b[0mremove_list\u001b[0m\u001b[0;34m.\u001b[0m\u001b[0mappend\u001b[0m\u001b[0;34m(\u001b[0m\u001b[0mdriver\u001b[0m\u001b[0;34m.\u001b[0m\u001b[0mfind_element_by_class_name\u001b[0m\u001b[0;34m(\u001b[0m\u001b[0;34m'widget-titlecard'\u001b[0m\u001b[0;34m)\u001b[0m\u001b[0;34m)\u001b[0m\u001b[0;34m\u001b[0m\u001b[0;34m\u001b[0m\u001b[0m\n\u001b[0m\u001b[1;32m      5\u001b[0m     \u001b[0mremove_list\u001b[0m\u001b[0;34m.\u001b[0m\u001b[0mappend\u001b[0m\u001b[0;34m(\u001b[0m\u001b[0mdriver\u001b[0m\u001b[0;34m.\u001b[0m\u001b[0mfind_element_by_class_name\u001b[0m\u001b[0;34m(\u001b[0m\u001b[0;34m'widget-minimap'\u001b[0m\u001b[0;34m)\u001b[0m\u001b[0;34m)\u001b[0m\u001b[0;34m\u001b[0m\u001b[0;34m\u001b[0m\u001b[0m\n\u001b[1;32m      6\u001b[0m     \u001b[0mremove_list\u001b[0m\u001b[0;34m.\u001b[0m\u001b[0mappend\u001b[0m\u001b[0;34m(\u001b[0m\u001b[0mdriver\u001b[0m\u001b[0;34m.\u001b[0m\u001b[0mfind_element_by_class_name\u001b[0m\u001b[0;34m(\u001b[0m\u001b[0;34m'widget-compass'\u001b[0m\u001b[0;34m)\u001b[0m\u001b[0;34m)\u001b[0m\u001b[0;34m\u001b[0m\u001b[0;34m\u001b[0m\u001b[0m\n",
      "\u001b[0;32m/usr/local/lib/python3.7/dist-packages/selenium/webdriver/remote/webdriver.py\u001b[0m in \u001b[0;36mfind_element_by_class_name\u001b[0;34m(self, name)\u001b[0m\n\u001b[1;32m    562\u001b[0m             \u001b[0melement\u001b[0m \u001b[0;34m=\u001b[0m \u001b[0mdriver\u001b[0m\u001b[0;34m.\u001b[0m\u001b[0mfind_element_by_class_name\u001b[0m\u001b[0;34m(\u001b[0m\u001b[0;34m'foo'\u001b[0m\u001b[0;34m)\u001b[0m\u001b[0;34m\u001b[0m\u001b[0;34m\u001b[0m\u001b[0m\n\u001b[1;32m    563\u001b[0m         \"\"\"\n\u001b[0;32m--> 564\u001b[0;31m         \u001b[0;32mreturn\u001b[0m \u001b[0mself\u001b[0m\u001b[0;34m.\u001b[0m\u001b[0mfind_element\u001b[0m\u001b[0;34m(\u001b[0m\u001b[0mby\u001b[0m\u001b[0;34m=\u001b[0m\u001b[0mBy\u001b[0m\u001b[0;34m.\u001b[0m\u001b[0mCLASS_NAME\u001b[0m\u001b[0;34m,\u001b[0m \u001b[0mvalue\u001b[0m\u001b[0;34m=\u001b[0m\u001b[0mname\u001b[0m\u001b[0;34m)\u001b[0m\u001b[0;34m\u001b[0m\u001b[0;34m\u001b[0m\u001b[0m\n\u001b[0m\u001b[1;32m    565\u001b[0m \u001b[0;34m\u001b[0m\u001b[0m\n\u001b[1;32m    566\u001b[0m     \u001b[0;32mdef\u001b[0m \u001b[0mfind_elements_by_class_name\u001b[0m\u001b[0;34m(\u001b[0m\u001b[0mself\u001b[0m\u001b[0;34m,\u001b[0m \u001b[0mname\u001b[0m\u001b[0;34m)\u001b[0m\u001b[0;34m:\u001b[0m\u001b[0;34m\u001b[0m\u001b[0;34m\u001b[0m\u001b[0m\n",
      "\u001b[0;32m/usr/local/lib/python3.7/dist-packages/selenium/webdriver/remote/webdriver.py\u001b[0m in \u001b[0;36mfind_element\u001b[0;34m(self, by, value)\u001b[0m\n\u001b[1;32m    976\u001b[0m         return self.execute(Command.FIND_ELEMENT, {\n\u001b[1;32m    977\u001b[0m             \u001b[0;34m'using'\u001b[0m\u001b[0;34m:\u001b[0m \u001b[0mby\u001b[0m\u001b[0;34m,\u001b[0m\u001b[0;34m\u001b[0m\u001b[0;34m\u001b[0m\u001b[0m\n\u001b[0;32m--> 978\u001b[0;31m             'value': value})['value']\n\u001b[0m\u001b[1;32m    979\u001b[0m \u001b[0;34m\u001b[0m\u001b[0m\n\u001b[1;32m    980\u001b[0m     \u001b[0;32mdef\u001b[0m \u001b[0mfind_elements\u001b[0m\u001b[0;34m(\u001b[0m\u001b[0mself\u001b[0m\u001b[0;34m,\u001b[0m \u001b[0mby\u001b[0m\u001b[0;34m=\u001b[0m\u001b[0mBy\u001b[0m\u001b[0;34m.\u001b[0m\u001b[0mID\u001b[0m\u001b[0;34m,\u001b[0m \u001b[0mvalue\u001b[0m\u001b[0;34m=\u001b[0m\u001b[0;32mNone\u001b[0m\u001b[0;34m)\u001b[0m\u001b[0;34m:\u001b[0m\u001b[0;34m\u001b[0m\u001b[0;34m\u001b[0m\u001b[0m\n",
      "\u001b[0;32m/usr/local/lib/python3.7/dist-packages/selenium/webdriver/remote/webdriver.py\u001b[0m in \u001b[0;36mexecute\u001b[0;34m(self, driver_command, params)\u001b[0m\n\u001b[1;32m    319\u001b[0m         \u001b[0mresponse\u001b[0m \u001b[0;34m=\u001b[0m \u001b[0mself\u001b[0m\u001b[0;34m.\u001b[0m\u001b[0mcommand_executor\u001b[0m\u001b[0;34m.\u001b[0m\u001b[0mexecute\u001b[0m\u001b[0;34m(\u001b[0m\u001b[0mdriver_command\u001b[0m\u001b[0;34m,\u001b[0m \u001b[0mparams\u001b[0m\u001b[0;34m)\u001b[0m\u001b[0;34m\u001b[0m\u001b[0;34m\u001b[0m\u001b[0m\n\u001b[1;32m    320\u001b[0m         \u001b[0;32mif\u001b[0m \u001b[0mresponse\u001b[0m\u001b[0;34m:\u001b[0m\u001b[0;34m\u001b[0m\u001b[0;34m\u001b[0m\u001b[0m\n\u001b[0;32m--> 321\u001b[0;31m             \u001b[0mself\u001b[0m\u001b[0;34m.\u001b[0m\u001b[0merror_handler\u001b[0m\u001b[0;34m.\u001b[0m\u001b[0mcheck_response\u001b[0m\u001b[0;34m(\u001b[0m\u001b[0mresponse\u001b[0m\u001b[0;34m)\u001b[0m\u001b[0;34m\u001b[0m\u001b[0;34m\u001b[0m\u001b[0m\n\u001b[0m\u001b[1;32m    322\u001b[0m             response['value'] = self._unwrap_value(\n\u001b[1;32m    323\u001b[0m                 response.get('value', None))\n",
      "\u001b[0;32m/usr/local/lib/python3.7/dist-packages/selenium/webdriver/remote/errorhandler.py\u001b[0m in \u001b[0;36mcheck_response\u001b[0;34m(self, response)\u001b[0m\n\u001b[1;32m    240\u001b[0m                 \u001b[0malert_text\u001b[0m \u001b[0;34m=\u001b[0m \u001b[0mvalue\u001b[0m\u001b[0;34m[\u001b[0m\u001b[0;34m'alert'\u001b[0m\u001b[0;34m]\u001b[0m\u001b[0;34m.\u001b[0m\u001b[0mget\u001b[0m\u001b[0;34m(\u001b[0m\u001b[0;34m'text'\u001b[0m\u001b[0;34m)\u001b[0m\u001b[0;34m\u001b[0m\u001b[0;34m\u001b[0m\u001b[0m\n\u001b[1;32m    241\u001b[0m             \u001b[0;32mraise\u001b[0m \u001b[0mexception_class\u001b[0m\u001b[0;34m(\u001b[0m\u001b[0mmessage\u001b[0m\u001b[0;34m,\u001b[0m \u001b[0mscreen\u001b[0m\u001b[0;34m,\u001b[0m \u001b[0mstacktrace\u001b[0m\u001b[0;34m,\u001b[0m \u001b[0malert_text\u001b[0m\u001b[0;34m)\u001b[0m\u001b[0;34m\u001b[0m\u001b[0;34m\u001b[0m\u001b[0m\n\u001b[0;32m--> 242\u001b[0;31m         \u001b[0;32mraise\u001b[0m \u001b[0mexception_class\u001b[0m\u001b[0;34m(\u001b[0m\u001b[0mmessage\u001b[0m\u001b[0;34m,\u001b[0m \u001b[0mscreen\u001b[0m\u001b[0;34m,\u001b[0m \u001b[0mstacktrace\u001b[0m\u001b[0;34m)\u001b[0m\u001b[0;34m\u001b[0m\u001b[0;34m\u001b[0m\u001b[0m\n\u001b[0m\u001b[1;32m    243\u001b[0m \u001b[0;34m\u001b[0m\u001b[0m\n\u001b[1;32m    244\u001b[0m     \u001b[0;32mdef\u001b[0m \u001b[0m_value_or_default\u001b[0m\u001b[0;34m(\u001b[0m\u001b[0mself\u001b[0m\u001b[0;34m,\u001b[0m \u001b[0mobj\u001b[0m\u001b[0;34m,\u001b[0m \u001b[0mkey\u001b[0m\u001b[0;34m,\u001b[0m \u001b[0mdefault\u001b[0m\u001b[0;34m)\u001b[0m\u001b[0;34m:\u001b[0m\u001b[0;34m\u001b[0m\u001b[0;34m\u001b[0m\u001b[0m\n",
      "\u001b[0;31mWebDriverException\u001b[0m: Message: unknown error: session deleted because of page crash\nfrom unknown error: cannot determine loading status\nfrom tab crashed\n  (Session info: chrome=79.0.3945.79)\n"
     ]
    }
   ],
   "source": [
    "def on_press(key):\n",
    "    #handle pressed keys\n",
    "    pass\n",
    "\n",
    "def on_release(key):\n",
    "    #handle released keys\n",
    "    if(key==Key.alt):\n",
    "        remove_widgets()\n",
    "        global count\n",
    "        count = save_screenshot_2(country_name, count)\n",
    "\n",
    "with keyboard.Listener(on_press=on_press,on_release=on_release) as listener:\n",
    "    listener.join()"
   ]
  },
  {
   "cell_type": "code",
   "execution_count": null,
   "metadata": {},
   "outputs": [],
   "source": []
  },
  {
   "cell_type": "code",
   "execution_count": null,
   "metadata": {},
   "outputs": [],
   "source": [
    "def on_press(key):\n",
    "    try:\n",
    "        print('alphanumeric key {0} pressed'.format(\n",
    "            key.char))\n",
    "    except AttributeError:\n",
    "        print('special key {0} pressed'.format(\n",
    "            key))\n",
    "\n",
    "def on_release(key):\n",
    "    print('{0} released'.format(\n",
    "        key))\n",
    "    if key == keyboard.Key.esc:\n",
    "        # Stop listener\n",
    "        return False\n",
    "\n",
    "# Collect events until released\n",
    "with keyboard.Listener(\n",
    "        on_press=on_press,\n",
    "        on_release=on_release) as listener:\n",
    "    listener.join()\n",
    "\n",
    "# ...or, in a non-blocking fashion:\n",
    "listener = keyboard.Listener(\n",
    "    on_press=on_press,\n",
    "    on_release=on_release)\n",
    "listener.start()"
   ]
  }
 ],
 "metadata": {
  "kernelspec": {
   "display_name": "Python 3",
   "language": "python",
   "name": "python3"
  },
  "language_info": {
   "codemirror_mode": {
    "name": "ipython",
    "version": 3
   },
   "file_extension": ".py",
   "mimetype": "text/x-python",
   "name": "python",
   "nbconvert_exporter": "python",
   "pygments_lexer": "ipython3",
   "version": "3.7.3"
  }
 },
 "nbformat": 4,
 "nbformat_minor": 2
}
